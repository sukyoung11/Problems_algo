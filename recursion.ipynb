{
 "cells": [
  {
   "cell_type": "code",
   "execution_count": 5,
   "id": "53e0f5e1",
   "metadata": {},
   "outputs": [
    {
     "name": "stdout",
     "output_type": "stream",
     "text": [
      "2\n",
      "2\n"
     ]
    }
   ],
   "source": [
    "#10872 팩토리얼\n",
    "\n",
    "def factorial(n):\n",
    "    if n<=1:\n",
    "        return 1\n",
    "    else:\n",
    "        return n * factorial(n-1)\n",
    "\n",
    "num = int(input())\n",
    "print(factorial(num))"
   ]
  },
  {
   "cell_type": "code",
   "execution_count": 9,
   "id": "0dd46e85",
   "metadata": {},
   "outputs": [
    {
     "name": "stdout",
     "output_type": "stream",
     "text": [
      "10\n",
      "55\n"
     ]
    }
   ],
   "source": [
    "# 10870 피보나치 수열\n",
    "\n",
    "def Fibonacci(n):\n",
    "    if n <=1:\n",
    "        return n\n",
    "    else:\n",
    "        return Fibonacci(n-1) + Fibonacci(n-2)\n",
    "\n",
    "num = int(input())\n",
    "print(Fibonacci(num))"
   ]
  },
  {
   "cell_type": "code",
   "execution_count": 3,
   "id": "de347ff2",
   "metadata": {},
   "outputs": [
    {
     "name": "stdout",
     "output_type": "stream",
     "text": [
      "\n",
      "\n",
      "***\n",
      "* *\n",
      "***\n",
      "***\n",
      "* *\n",
      "***\n",
      "***\n",
      "* *\n",
      "***\n",
      "\n",
      "***\n",
      "* *\n",
      "***   \n",
      "***\n",
      "* *\n",
      "***\n",
      "\n",
      "***\n",
      "* *\n",
      "***\n",
      "***\n",
      "* *\n",
      "***\n",
      "***\n",
      "* *\n",
      "***\n"
     ]
    }
   ],
   "source": [
    "def star(n):\n",
    "    if n==1:\n",
    "        return '*'\n",
    "    else:\n",
    "   \n",
    "        return '\\n' +(star(n/3)*3)+ '\\n' + (star(n/3))+(\" \"*int(n/3))+(star(n/3)) + '\\n' + (star(n/3)*3)\n",
    "       \n",
    "#        (star(n/3)*3)+ '\\n' + (star(n/3))+(\" \"*len(star(n/3)))+(star(n/3)) + '\\n' + (star(n/3)*3)\n",
    "#          \\n{star(n/3)*3}\\n{star(n/3)}{\" \"*len(star(n/3))}{star(n/3)}\\n{star(n/3)*3}\n",
    "print(star(9))"
   ]
  },
  {
   "cell_type": "code",
   "execution_count": 87,
   "id": "86f23532",
   "metadata": {},
   "outputs": [
    {
     "name": "stdout",
     "output_type": "stream",
     "text": [
      "***\n",
      "\n",
      "* *\n",
      "***\n",
      "\n",
      "* *\n",
      "None\n"
     ]
    }
   ],
   "source": [
    "def star(n):\n",
    "    if n == 1:\n",
    "        return '*'\n",
    "    else:\n",
    "        for i in range(0,2):\n",
    "            for j in range(0,3):\n",
    "                print(star(n/3),end='')\n",
    "            print('\\n')    \n",
    "            print(f'{star(n/3)}{\" \"*len(star(n/3))}{star(n/3)}')\n",
    "\n",
    "                \n",
    "print(star(3))\n",
    "bv"
   ]
  },
  {
   "cell_type": "code",
   "execution_count": null,
   "id": "b9462033",
   "metadata": {},
   "outputs": [],
   "source": []
  },
  {
   "cell_type": "code",
   "execution_count": null,
   "id": "fbf9a261",
   "metadata": {},
   "outputs": [],
   "source": [
    "def hanoitop(n):\n",
    "    \n",
    "    if n % 2:#홀수\n",
    "        if n == 1:\n",
    "            \n",
    "        \n",
    "        \n",
    "        \n",
    "        \n",
    "    \n",
    "    else:\n",
    "        \n",
    "        "
   ]
  },
  {
   "cell_type": "code",
   "execution_count": null,
   "id": "9ccade2f",
   "metadata": {},
   "outputs": [],
   "source": []
  },
  {
   "cell_type": "code",
   "execution_count": null,
   "id": "87014f93",
   "metadata": {},
   "outputs": [],
   "source": []
  },
  {
   "cell_type": "code",
   "execution_count": null,
   "id": "14bdf2ab",
   "metadata": {},
   "outputs": [],
   "source": []
  },
  {
   "cell_type": "code",
   "execution_count": null,
   "id": "6e8b99ce",
   "metadata": {},
   "outputs": [],
   "source": []
  }
 ],
 "metadata": {
  "kernelspec": {
   "display_name": "Python 3 (ipykernel)",
   "language": "python",
   "name": "python3"
  },
  "language_info": {
   "codemirror_mode": {
    "name": "ipython",
    "version": 3
   },
   "file_extension": ".py",
   "mimetype": "text/x-python",
   "name": "python",
   "nbconvert_exporter": "python",
   "pygments_lexer": "ipython3",
   "version": "3.9.9"
  }
 },
 "nbformat": 4,
 "nbformat_minor": 5
}
