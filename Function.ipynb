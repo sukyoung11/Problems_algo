{
 "cells": [
  {
   "cell_type": "code",
   "execution_count": null,
   "id": "3ffd62ff",
   "metadata": {},
   "outputs": [],
   "source": [
    "#15596 정수 n개의 합\n",
    "\n",
    "def sumfnc(num_list):\n",
    "    return sum(num_list)"
   ]
  },
  {
   "cell_type": "code",
   "execution_count": 12,
   "id": "543634ed",
   "metadata": {},
   "outputs": [
    {
     "name": "stdout",
     "output_type": "stream",
     "text": [
      "[2, 4, 6, 8, 10, 12, 14, 16, 18, 11, 13, 15, 17, 19, 21, 23, 25, 27, 29, 22, 24, 26, 28, 30, 32, 34, 36, 38, 40, 33, 35, 37, 39, 41, 43, 45, 47, 49, 51, 44, 46, 48, 50, 52, 54, 56, 58, 60, 62, 55, 57, 59, 61, 63, 65, 67, 69, 71, 73, 66, 68, 70, 72, 74, 76, 78, 80, 82, 84, 77, 79, 81, 83, 85, 87, 89, 91, 93, 95, 88, 90, 92, 94, 96, 98, 100, 102, 104, 106, 99, 101, 103, 105, 107, 109, 111, 113, 115, 117]\n",
      "1\n",
      "3\n",
      "5\n",
      "7\n",
      "9\n",
      "20\n",
      "31\n",
      "42\n",
      "53\n",
      "64\n",
      "75\n",
      "86\n",
      "97\n"
     ]
    }
   ],
   "source": [
    "#4673 셀프넘버\n",
    "\n",
    "num_list=[]\n",
    "for i in range (1,100):\n",
    "    i+= sum(map(int,list(str(i))))\n",
    "    num_list.append(i)\n",
    "\n",
    "for i in range(1,100):\n",
    "    if i not in num_list:\n",
    "        print(i)"
   ]
  },
  {
   "cell_type": "code",
   "execution_count": 26,
   "id": "ce6d0948",
   "metadata": {},
   "outputs": [
    {
     "name": "stdout",
     "output_type": "stream",
     "text": [
      "210\n",
      "105\n"
     ]
    }
   ],
   "source": [
    "n = int(input())\n",
    "if n>99:\n",
    "    cnt = 0\n",
    "    for i in range(110,n+1):\n",
    "        num = list(map(int,list(str(i))))\n",
    "        if (num[2]-num[1]) == (num[1]-num[0]):\n",
    "            cnt += 1\n",
    "    print(99 + cnt)\n",
    "else:\n",
    "    print(n)\n",
    "  "
   ]
  },
  {
   "cell_type": "code",
   "execution_count": null,
   "id": "706eb2a6",
   "metadata": {},
   "outputs": [],
   "source": []
  },
  {
   "cell_type": "code",
   "execution_count": null,
   "id": "8045eaa1",
   "metadata": {},
   "outputs": [],
   "source": []
  }
 ],
 "metadata": {
  "kernelspec": {
   "display_name": "Python 3 (ipykernel)",
   "language": "python",
   "name": "python3"
  },
  "language_info": {
   "codemirror_mode": {
    "name": "ipython",
    "version": 3
   },
   "file_extension": ".py",
   "mimetype": "text/x-python",
   "name": "python",
   "nbconvert_exporter": "python",
   "pygments_lexer": "ipython3",
   "version": "3.9.9"
  }
 },
 "nbformat": 4,
 "nbformat_minor": 5
}
